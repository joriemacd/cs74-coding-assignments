{
 "cells": [
  {
   "cell_type": "markdown",
   "metadata": {},
   "source": [
    "# HW1  Try out gradient descent"
   ]
  },
  {
   "cell_type": "markdown",
   "metadata": {},
   "source": [
    "You should submit this jupyter notebook with your solutions. The solutions should include the code and also the output of all the cells.\n",
    "\n",
    "Note that for the problmes that require a cost function as input you should always use the most recent cost function that you have implemented (unless specified otherwise)."
   ]
  },
  {
   "cell_type": "markdown",
   "metadata": {},
   "source": [
    "### 1) [5 points] Calculate the derivative of following cost function and write it down:\n",
    "\n",
    "$g(w) = \\frac{1}{50}\\left(w^4 + w^2 + 10w - 50 \\right)$"
   ]
  },
  {
   "cell_type": "markdown",
   "metadata": {},
   "source": [
    "$\\frac{\\partial}{\\partial w}g(w) = \\frac{1}{50}\\left(4w^3 + 2w + 10 \\right)$"
   ]
  },
  {
   "cell_type": "markdown",
   "metadata": {},
   "source": [
    "### 2) [25 points] Implement the gradient descent function as discussed in class using the gradient derived in the last problem. The function should return the cost history for each step. Use the code template below:\n"
   ]
  },
  {
   "cell_type": "code",
   "execution_count": 270,
   "metadata": {},
   "outputs": [],
   "source": [
    "import autograd.numpy as np\n",
    "from autograd import grad"
   ]
  },
  {
   "cell_type": "code",
   "execution_count": 271,
   "metadata": {},
   "outputs": [],
   "source": [
    "# cost function function. Input weight w\n",
    "def grad_cost(w):\n",
    "    return (1/50)*(4*w**3 + 2*w +10)"
   ]
  },
  {
   "cell_type": "code",
   "execution_count": 272,
   "metadata": {},
   "outputs": [],
   "source": [
    "def cost_function(w):\n",
    "    return (1/50)*(w**4 + w**2 +10*w -50)"
   ]
  },
  {
   "cell_type": "code",
   "execution_count": 273,
   "metadata": {},
   "outputs": [],
   "source": [
    "#gradient descent function\n",
    "#inputs: alpha (learning rate parameter), max_its (maximum number of iterations), w0 (initialization)\n",
    "def gradient_descent(alpha,max_its,w0):\n",
    "    w = w0\n",
    "    cost_history = []\n",
    "    \n",
    "    for i in range(max_its):\n",
    "        cost_history.append(cost_function(w)) # run cost function on w0, store in array\n",
    "        w = w - alpha * grad_cost(w) #perform step, move towards minimum\n",
    "    ##Your code here\n",
    "    return cost_history"
   ]
  },
  {
   "cell_type": "markdown",
   "metadata": {},
   "source": [
    "### 3) [10 points] Run the gradient_descent function you implemented three times, with the following parameters. \n",
    "Generate a single plot showing the cost as a function of step number for all three runs (combine all three runs into a single plot). If you are not familiar with plotting in python, here is the docs for matplotlib:(https://matplotlib.org/3.2.1/api/_as_gen/matplotlib.pyplot.plot.html#matplotlib.pyplot.plot). \n",
    "\n",
    "\n",
    "$w^0$ = 2.0\n",
    "max_its = 1000\n",
    "\n",
    "\n"
   ]
  },
  {
   "cell_type": "markdown",
   "metadata": {},
   "source": [
    "#### first run\n",
    "alpha = 1"
   ]
  },
  {
   "cell_type": "code",
   "execution_count": 274,
   "metadata": {
    "scrolled": false
   },
   "outputs": [],
   "source": [
    "array1 = gradient_descent(1, 1000, 2.0)"
   ]
  },
  {
   "cell_type": "markdown",
   "metadata": {},
   "source": [
    "#### second run\n",
    "alpha = 0.1"
   ]
  },
  {
   "cell_type": "code",
   "execution_count": 275,
   "metadata": {
    "scrolled": true
   },
   "outputs": [],
   "source": [
    "array2 = gradient_descent(0.1, 1000, 2.0)"
   ]
  },
  {
   "cell_type": "markdown",
   "metadata": {},
   "source": [
    "#### third run\n",
    "alpha = 0.01"
   ]
  },
  {
   "cell_type": "code",
   "execution_count": 276,
   "metadata": {},
   "outputs": [],
   "source": [
    "array3 = gradient_descent(0.01, 1000, 2.0)"
   ]
  },
  {
   "cell_type": "code",
   "execution_count": 277,
   "metadata": {
    "scrolled": false
   },
   "outputs": [
    {
     "data": {
      "image/png": "[encoded data removed]",
      "text/plain": [
       "<Figure size 432x288 with 1 Axes>"
      ]
     },
     "metadata": {
      "needs_background": "light"
     },
     "output_type": "display_data"
    }
   ],
   "source": [
    "import matplotlib.pyplot as plt\n",
    "%matplotlib inline \n",
    "plt.plot(array1, label=\"First Run\")\n",
    "plt.plot(array2, label=\"Second Run\")\n",
    "plt.plot(array3, label=\"Third Run\")\n",
    "\n",
    "plt.xlabel(\"Step #\")\n",
    "plt.ylabel(\"Cost\")\n",
    "plt.title(\"Cost as a Function of Step Number\")\n",
    "\n",
    "plt.legend()\n",
    "plt.show()\n",
    "##Your code here"
   ]
  },
  {
   "cell_type": "markdown",
   "metadata": {},
   "source": [
    "For the next few problems we will be comparing fixed and diminishing learning rates"
   ]
  },
  {
   "cell_type": "markdown",
   "metadata": {},
   "source": [
    "Take the following cost function:\n",
    "\\begin{equation}\n",
    "g(w) = \\left \\vert w \\right \\vert\n",
    "\\end{equation}"
   ]
  },
  {
   "cell_type": "markdown",
   "metadata": {},
   "source": [
    "### 4) [5 points] Is this function convex? If no, why not? If yes, where is its global minimum?"
   ]
  },
  {
   "cell_type": "markdown",
   "metadata": {},
   "source": [
    "Yes, this function is convex. It's global minimum is at 0. "
   ]
  },
  {
   "cell_type": "markdown",
   "metadata": {},
   "source": [
    "### 5) [5 points] What is the derivative of the cost function? "
   ]
  },
  {
   "cell_type": "markdown",
   "metadata": {},
   "source": [
    "$\\frac{\\partial}{\\partial w}g(w) = \\begin{cases}\n",
    "  1  & w > 0 \\\\\n",
    "  -1 & w < 0 \\\\\n",
    "  \\text{does not exist} & w = 0\n",
    "\\end{cases}$"
   ]
  },
  {
   "cell_type": "markdown",
   "metadata": {},
   "source": [
    "### 6) [20 points] Rewrite the gradient descent function from question 2 such that it takes the cost funciton g as input and uses the autograd library to calculate the gradient. \n",
    "The function should return the weight and cost history for each step. Use the code template below.\n",
    "\n",
    "autograd is a python package for automatic calculation of the gradient. Here is a tutorial on it: (http://www.cs.toronto.edu/~rgrosse/courses/csc321_2017/tutorials/tut4.pdf\n",
    "\n",
    "Note that in Python you can pass functions around like any other variables. That is why you can pass the cost function g to the gradient_descent function. \n",
    "\n",
    "You should be able to install it by running \"pip install autograd\" in a cell in your Jupyter notebook."
   ]
  },
  {
   "cell_type": "code",
   "execution_count": 278,
   "metadata": {
    "scrolled": true
   },
   "outputs": [],
   "source": [
    "# cost function function. Input weight w\n",
    "def g(w):\n",
    "    return abs(w)"
   ]
  },
  {
   "cell_type": "code",
   "execution_count": 279,
   "metadata": {},
   "outputs": [],
   "source": [
    "from autograd import grad \n",
    "\n",
    "#gradient descent function\n",
    "#inputs: g (cost function), alpha (learning rate parameter), max_its (maximum number of iterations), w (initialization)\n",
    "def gradient_descent(g,alpha,max_its,w0):\n",
    "    ##Your code here\n",
    "    w = w0\n",
    "    weight_history = []\n",
    "    cost_history = []\n",
    "    gradient = grad(g)\n",
    "    \n",
    "    for i in range(max_its):\n",
    "        weight_history.append(w)\n",
    "        cost_history.append(g(w))# run cost function on w0, store in array\n",
    "        w = w - alpha * gradient(w) #perform step, move towards minimum\n",
    "    \n",
    "    \n",
    "    return weight_history,cost_history"
   ]
  },
  {
   "cell_type": "markdown",
   "metadata": {},
   "source": [
    "### 7) [10 points] Make a run of max_its=20 steps of gradient descent with initialization at the point $w^0 = 1.75$, and a fixed learning rate of $\\alpha = 0.5$. Using the cost and weight history, plot the cost as a function of the weight for each step (cost on y-axis, weight on x-axis). Recall that the terms weight and parameter used interchangeably and both refer to w."
   ]
  },
  {
   "cell_type": "code",
   "execution_count": 280,
   "metadata": {},
   "outputs": [],
   "source": [
    "weight_array, cost_array = gradient_descent(g, 0.5, 20, 1.75)"
   ]
  },
  {
   "cell_type": "code",
   "execution_count": 281,
   "metadata": {},
   "outputs": [
    {
     "data": {
      "image/png": "[encoded data removed]",
      "text/plain": [
       "<Figure size 432x288 with 1 Axes>"
      ]
     },
     "metadata": {
      "needs_background": "light"
     },
     "output_type": "display_data"
    }
   ],
   "source": [
    "plt.plot(weight_array, cost_array)\n",
    "plt.xlabel('Weight')\n",
    "plt.ylabel('Cost')\n",
    "plt.title(\"Cost as a Function of Weight\")\n",
    "plt.show()"
   ]
  },
  {
   "cell_type": "markdown",
   "metadata": {},
   "source": [
    "### 8) [15 points] Make a run of max_its=20 steps of gradient descent with initialization at the point $w^0 = 1.75$, using the diminishing rule $\\alpha = \\frac{1}{k}$ (for this you have to modify the gradient_descent function slightly. Use the code template below. Using the cost and weight history, plot the cost as a function of the weight for each step (cost on y-axis, weight on x-axis)"
   ]
  },
  {
   "cell_type": "code",
   "execution_count": 282,
   "metadata": {},
   "outputs": [],
   "source": [
    "from autograd import grad \n",
    "\n",
    "#gradient descent function\n",
    "#inputs: g (cost function), alpha (learning rate parameter), max_its (maximum number of iterations), w (initialization)\n",
    "def gradient_descent(g,alpha,max_its,w0):\n",
    "    w = w0\n",
    "    weight_history = []\n",
    "    cost_history = []\n",
    "    gradient = grad(g)\n",
    "    ##Your code here\n",
    "    if alpha=='diminishing':\n",
    "        for i in range(max_its):\n",
    "            weight_history.append(w)\n",
    "            cost_history.append(g(w))# run cost function on w0, store in array\n",
    "            w = w - (1/(i+1)) * gradient(w) #perform step with diminishing learning rate\n",
    "    else:\n",
    "        for i in range(max_its):\n",
    "            weight_history.append(w)\n",
    "            cost_history.append(g(w))# run cost function on w0, store in array\n",
    "            w = w - alpha * gradient(w) #perform step, move towards minimum\n",
    "        \n",
    "    return weight_history,cost_history"
   ]
  },
  {
   "cell_type": "code",
   "execution_count": 283,
   "metadata": {},
   "outputs": [],
   "source": [
    "weight_array2, cost_array2 = gradient_descent(g, 'diminishing', 20, 1.75)"
   ]
  },
  {
   "cell_type": "code",
   "execution_count": 284,
   "metadata": {},
   "outputs": [
    {
     "data": {
      "image/png": "[encoded data removed]",
      "text/plain": [
       "<Figure size 432x288 with 1 Axes>"
      ]
     },
     "metadata": {
      "needs_background": "light"
     },
     "output_type": "display_data"
    }
   ],
   "source": [
    "plt.plot(weight_array2, cost_array2)\n",
    "plt.xlabel('Weight')\n",
    "plt.ylabel('Cost')\n",
    "plt.title(\"Cost as a Function of Weight\")\n",
    "plt.show()"
   ]
  },
  {
   "cell_type": "markdown",
   "metadata": {},
   "source": [
    "### 9) [10 points]  Generate a single plot showing the cost as a function of step number for both runs (combine all  runs into a single plot). Which approach works better? Why ?"
   ]
  },
  {
   "cell_type": "code",
   "execution_count": 285,
   "metadata": {
    "scrolled": true
   },
   "outputs": [
    {
     "data": {
      "image/png": "[encoded data removed]",
      "text/plain": [
       "<Figure size 432x288 with 1 Axes>"
      ]
     },
     "metadata": {
      "needs_background": "light"
     },
     "output_type": "display_data"
    }
   ],
   "source": [
    "plt.plot(cost_array, label = 'Constant Learning Rate')\n",
    "plt.plot(cost_array2, label = 'Diminishing Learning Rate')\n",
    "plt.xlabel('Step Number')\n",
    "plt.ylabel('Cost')\n",
    "plt.title(\"Cost as a Function of Weight\")\n",
    "plt.legend()\n",
    "plt.show()"
   ]
  },
  {
   "cell_type": "markdown",
   "metadata": {},
   "source": [
    "***FILL IN***: Using a diminishing learning rate works better because it converges more quickly. "
   ]
  },
  {
   "cell_type": "markdown",
   "metadata": {},
   "source": [
    "We will now look at the oscilating behavior of gradient descent. \n",
    "\n",
    "Take the following cost function:\n",
    "$g(w) = w_0^2 + w_1^2 + 2\\sin(1.5 (w_0 + w_1)) +2$\n",
    "\n",
    "Note that this cost function has two parameters."
   ]
  },
  {
   "cell_type": "markdown",
   "metadata": {},
   "source": [
    "### 10) [5 points] Make sure your gradient descent function from problem 6 can handle cost functions with more than one parameter. \n",
    "You may need to rewrite it if you were not careful. Use the code template below (if your function from problem 6 is good, you can just copy and paste it here)"
   ]
  },
  {
   "cell_type": "code",
   "execution_count": 286,
   "metadata": {
    "scrolled": true
   },
   "outputs": [],
   "source": [
    "# cost function function. Input weight w\n",
    "def g(w):\n",
    "    return (w[0]**2) + (w[1]**2)+ 2*np.sin(1.5*(w[0]+w[1]))+2"
   ]
  },
  {
   "cell_type": "code",
   "execution_count": 287,
   "metadata": {
    "scrolled": true
   },
   "outputs": [],
   "source": [
    "from autograd import grad \n",
    "\n",
    "#gradient descent function\n",
    "#inputs: g (cost function), alpha (learning rate parameter), max_its (maximum number of iterations), w (initialization)\n",
    "def gradient_descent(g,alpha,max_its,w0):\n",
    "    ##Your code here\n",
    "    w = w0\n",
    "    weight_history = []\n",
    "    cost_history = []\n",
    "    gradient = grad(g)\n",
    "    \n",
    "    for i in range(max_its):\n",
    "        weight_history.append(w)\n",
    "        cost_history.append(g(w))# run cost function on w0, store in array\n",
    "        w = w - alpha * gradient(w) #perform step, move towards minimum\n",
    "\n",
    "    \n",
    "    return weight_history,cost_history"
   ]
  },
  {
   "cell_type": "markdown",
   "metadata": {},
   "source": [
    "### 11) [10 points] Run the gradient_descent function with the cost function above three times with the following parameters. \n",
    "Generate a single plot showing the cost as a function of step number for all three runs (combine all three runs into a single plot). Use the code template below. Which alpha leads to an oscillating behavior?\n",
    "\n",
    "$w^0$ = [3.0,3.0]\n",
    "max_its = 10\n",
    "\n",
    "### first run\n",
    "alpha = 0.01\n",
    "\n"
   ]
  },
  {
   "cell_type": "code",
   "execution_count": 288,
   "metadata": {},
   "outputs": [],
   "source": [
    "w = np.array([3.0, 3.0])"
   ]
  },
  {
   "cell_type": "code",
   "execution_count": 289,
   "metadata": {
    "scrolled": true
   },
   "outputs": [],
   "source": [
    "cost1 = gradient_descent(g, 0.01, 10, w)[1]"
   ]
  },
  {
   "cell_type": "markdown",
   "metadata": {},
   "source": [
    "### second run\n",
    "alpha = 0.1\n"
   ]
  },
  {
   "cell_type": "code",
   "execution_count": 290,
   "metadata": {},
   "outputs": [],
   "source": [
    "cost2 = gradient_descent(g, 0.1, 10, w)[1]"
   ]
  },
  {
   "cell_type": "markdown",
   "metadata": {},
   "source": [
    "### third run\n",
    "alpha = 1\n"
   ]
  },
  {
   "cell_type": "code",
   "execution_count": 291,
   "metadata": {},
   "outputs": [],
   "source": [
    "cost3 = gradient_descent(g, 1, 10, w)[1]"
   ]
  },
  {
   "cell_type": "code",
   "execution_count": 292,
   "metadata": {},
   "outputs": [
    {
     "data": {
      "image/png": "[encoded data removed]",
      "text/plain": [
       "<Figure size 432x288 with 1 Axes>"
      ]
     },
     "metadata": {
      "needs_background": "light"
     },
     "output_type": "display_data"
    }
   ],
   "source": [
    "plt.plot(cost1, label = 'First Run')\n",
    "plt.plot(cost2, label = 'Second Run')\n",
    "plt.plot(cost3, label = 'Third Run')\n",
    "plt.xlabel('Step Number')\n",
    "plt.ylabel('Cost')\n",
    "plt.title(\"Cost as a Function of Step Number\")\n",
    "plt.legend()\n",
    "plt.show()"
   ]
  },
  {
   "cell_type": "markdown",
   "metadata": {},
   "source": [
    "The alpha 1 leads to an oscillating behavior."
   ]
  },
  {
   "cell_type": "markdown",
   "metadata": {},
   "source": [
    "### 12) [15 points] This problem is about learning to tune fixed step length for gradient descent. Here, you are given a cost function:\n",
    "$g(w) = 2w_0^2 + w_1^2 +4w_2^2$ \n",
    "\n",
    "Assume your $w^0$= [5,5,5] and your max_iter = 100\n",
    "\n",
    "Use your latest gradient descent function with a fixed learning rate. Play around with at least 5 different values of alpha (using your intuition). Generate a single plot of the cost as a function of the number of iterations. Which value of alpha seems to converge the fastest?\n",
    "\n",
    "Not that your grade will not depend on how well you do, as long as you try at least 5 different values for alpha and plot them."
   ]
  },
  {
   "cell_type": "code",
   "execution_count": 293,
   "metadata": {
    "scrolled": true
   },
   "outputs": [],
   "source": [
    "# cost function function. Input weight w\n",
    "def g(w):\n",
    "    return (2*w[0]**2) + (w[1]**2)+ (4*w[2]**2)"
   ]
  },
  {
   "cell_type": "code",
   "execution_count": 294,
   "metadata": {},
   "outputs": [],
   "source": [
    "w = np.array([5.0, 5.0, 5.0])"
   ]
  },
  {
   "cell_type": "code",
   "execution_count": 295,
   "metadata": {},
   "outputs": [],
   "source": [
    "# alpha = 0.01\n",
    "cost1 = gradient_descent(g, 0.001, 100, w)[1]\n",
    "\n",
    "# alpha = 0.01\n",
    "cost2 = gradient_descent(g, 0.01, 100, w)[1]\n",
    "\n",
    "# alpha = 0.025\n",
    "cost3 = gradient_descent(g, 0.025, 100, w)[1]\n",
    "\n",
    "# alpha = 0.05\n",
    "cost4 = gradient_descent(g, 0.05, 100, w)[1]\n",
    "\n",
    "# alpha = 0.1\n",
    "cost5 = gradient_descent(g, 0.1, 100, w)[1]\n",
    "\n",
    "# alpha = 0.15\n",
    "cost6 = gradient_descent(g, 0.15, 100, w)[1]"
   ]
  },
  {
   "cell_type": "code",
   "execution_count": 296,
   "metadata": {
    "scrolled": true
   },
   "outputs": [
    {
     "data": {
      "image/png": "[encoded data removed]",
      "text/plain": [
       "<Figure size 432x288 with 1 Axes>"
      ]
     },
     "metadata": {
      "needs_background": "light"
     },
     "output_type": "display_data"
    }
   ],
   "source": [
    "plt.plot(cost1, label = 'First Run')\n",
    "plt.plot(cost2, label = 'Second Run')\n",
    "plt.plot(cost3, label = 'Third Run')\n",
    "plt.plot(cost4, label = 'Fourth Run')\n",
    "plt.plot(cost5, label = 'Fifth Run')\n",
    "plt.plot(cost6, label = 'Sixth Run')\n",
    "plt.xlabel('Step Number')\n",
    "plt.ylabel('Cost')\n",
    "plt.title(\"Cost as a Function of Number of Iterations\")\n",
    "plt.legend()\n",
    "plt.show()"
   ]
  },
  {
   "cell_type": "markdown",
   "metadata": {},
   "source": [
    "The value of alpha (of the values of alpha that I tested) that converges the fastest seems to be **0.15**."
   ]
  },
  {
   "cell_type": "markdown",
   "metadata": {},
   "source": [
    "# Bonus Question!"
   ]
  },
  {
   "cell_type": "markdown",
   "metadata": {},
   "source": [
    "[10 points] This is an open-ended question. Can you find a way to speed up your gradient descent algorithm implemented above? Please provided the code below:"
   ]
  },
  {
   "cell_type": "markdown",
   "metadata": {},
   "source": [
    "Gradient decent with momentum allows us to converge more quickly. We alter our old function to keep track of time: "
   ]
  },
  {
   "cell_type": "code",
   "execution_count": 297,
   "metadata": {},
   "outputs": [],
   "source": [
    "from autograd import grad \n",
    "import time\n",
    "\n",
    "#gradient descent function\n",
    "#inputs: g (cost function), alpha (learning rate parameter), max_its (maximum number of iterations), w (initialization)\n",
    "def gradient_descent(g,alpha,max_its,w0):\n",
    "    ##Your code here\n",
    "    w = w0\n",
    "    weight_history = []\n",
    "    cost_history = []\n",
    "    gradient = grad(g)\n",
    "    \n",
    "    start_time = time.time()\n",
    "    for i in range(max_its):\n",
    "        weight_history.append(w)\n",
    "        cost_history.append(g(w))# run cost function on w0, store in array\n",
    "        w = w - alpha * gradient(w) #perform step, move towards minimum\n",
    "\n",
    "    total_time = time.time() - start_time\n",
    "    return weight_history,cost_history, total_time"
   ]
  },
  {
   "cell_type": "code",
   "execution_count": 298,
   "metadata": {
    "scrolled": true
   },
   "outputs": [
    {
     "name": "stdout",
     "output_type": "stream",
     "text": [
      "0.04328775405883789\n"
     ]
    }
   ],
   "source": [
    "time1 = gradient_descent(g, 0.025, 100, w)[2]\n",
    "print(time1)"
   ]
  },
  {
   "cell_type": "code",
   "execution_count": 299,
   "metadata": {},
   "outputs": [],
   "source": [
    "from autograd import grad \n",
    "import time\n",
    "\n",
    "#gradient descent function\n",
    "#inputs: g (cost function), alpha (learning rate parameter), max_its (maximum number of iterations), w (initialization)\n",
    "def gradient_descent_momentum(g,alpha,max_its,w0, beta):\n",
    "    ##Your code here\n",
    "    w = w0\n",
    "    weight_history = []\n",
    "    cost_history = []\n",
    "    gradient = grad(g)\n",
    "    velocity = 0 \n",
    "    \n",
    "    start_time = time.time()\n",
    "    for i in range(max_its):\n",
    "        weight_history.append(w)\n",
    "        cost_history.append(g(w))# run cost function on w0, store in array\n",
    "        velocity = beta * velocity + (1 - beta) * gradient(w)\n",
    "        w = w - alpha * velocity #perform step, move towards minimum\n",
    "\n",
    "    total_time = time.time() - start_time\n",
    "    return weight_history,cost_history, total_time"
   ]
  },
  {
   "cell_type": "code",
   "execution_count": 300,
   "metadata": {},
   "outputs": [
    {
     "name": "stdout",
     "output_type": "stream",
     "text": [
      "0.04161882400512695\n"
     ]
    }
   ],
   "source": [
    "time2 = gradient_descent_momentum(g, 0.025, 100, w, 0.1)[2]\n",
    "print(time2)"
   ]
  },
  {
   "cell_type": "markdown",
   "metadata": {},
   "source": [
    "As you can see, the time improved by 0.002 seconds. Which is not a TON of time, but is still significant. "
   ]
  },
  {
   "cell_type": "markdown",
   "metadata": {},
   "source": [
    "Sources for this problem: https://towardsdatascience.com/gradient-descent-with-momentum-59420f626c8f#:~:text=By%20adding%20a%20momentum%20term,t%20resolve%20all%20the%20problems, https://machinelearningmastery.com/gradient-descent-with-momentum-from-scratch/#:~:text=Momentum%20is%20an%20extension%20to,spots%20of%20the%20search%20space."
   ]
  }
 ],
 "metadata": {
  "kernelspec": {
   "display_name": "Python 3 (ipykernel)",
   "language": "python",
   "name": "python3"
  },
  "language_info": {
   "codemirror_mode": {
    "name": "ipython",
    "version": 3
   },
   "file_extension": ".py",
   "mimetype": "text/x-python",
   "name": "python",
   "nbconvert_exporter": "python",
   "pygments_lexer": "ipython3",
   "version": "3.9.13"
  }
 },
 "nbformat": 4,
 "nbformat_minor": 2
}
